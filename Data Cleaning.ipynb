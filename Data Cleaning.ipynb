{
 "cells": [
  {
   "cell_type": "code",
   "execution_count": null,
   "metadata": {},
   "outputs": [],
   "source": [
    "import pandas as pd\n",
    "import numpy as np"
   ]
  },
  {
   "cell_type": "code",
   "execution_count": null,
   "metadata": {},
   "outputs": [],
   "source": [
    "# read in the items csv\n",
    "items = pd.read_csv('Data/items.csv', encoding='cp1252')\n",
    "items.head()"
   ]
  },
  {
   "cell_type": "code",
   "execution_count": null,
   "metadata": {},
   "outputs": [],
   "source": [
    "items.dtypes"
   ]
  },
  {
   "cell_type": "code",
   "execution_count": null,
   "metadata": {},
   "outputs": [],
   "source": [
    "items.tail()"
   ]
  },
  {
   "cell_type": "code",
   "execution_count": null,
   "metadata": {},
   "outputs": [],
   "source": [
    "# strip out exclmation points, quotes, and asterisks\n",
    "items['item_name'] = items['item_name'].str.replace('!','')\n",
    "items['item_name'] = items['item_name'].str.replace('*','')\n",
    "items['item_name'] = items['item_name'].str.replace('\"','')\n",
    "items['item_name'] = items['item_name'].str.replace(\"'\",'')\n",
    "items['item_name'] = items['item_name'].str.replace('/','')\n",
    "items.head()"
   ]
  },
  {
   "cell_type": "code",
   "execution_count": null,
   "metadata": {},
   "outputs": [],
   "source": [
    "items.to_csv('Data/cleaned_items.csv', encoding='utf-8', index=False)"
   ]
  },
  {
   "cell_type": "code",
   "execution_count": null,
   "metadata": {
    "scrolled": true
   },
   "outputs": [],
   "source": [
    "# read in the sales_train csv\n",
    "sales_train = pd.read_csv('Data/sales_train.csv')\n",
    "sales_train.head()"
   ]
  },
  {
   "cell_type": "code",
   "execution_count": null,
   "metadata": {},
   "outputs": [],
   "source": [
    "sales_train.dtypes"
   ]
  },
  {
   "cell_type": "code",
   "execution_count": null,
   "metadata": {},
   "outputs": [],
   "source": [
    "# convert date to a datetime object\n",
    "sales_train['date'] = pd.to_datetime(sales_train['date'])\n",
    "sales_train.head()"
   ]
  },
  {
   "cell_type": "code",
   "execution_count": null,
   "metadata": {},
   "outputs": [],
   "source": [
    "# save to a new csv without an index.\n",
    "sales_train.to_csv('Data/clean_sales_train.csv', encoding='utf-8', index=False)"
   ]
  },
  {
   "cell_type": "code",
   "execution_count": null,
   "metadata": {},
   "outputs": [],
   "source": [
    "shops = pd.read_csv('Data/shops.csv', encoding='cp1252')\n",
    "shops.head()"
   ]
  },
  {
   "cell_type": "code",
   "execution_count": null,
   "metadata": {},
   "outputs": [],
   "source": [
    "# strip out exclmation points, quotes, and asterisks\n",
    "shops['shop_name'] = shops['shop_name'].str.replace('!','')\n",
    "shops['shop_name'] = shops['shop_name'].str.replace('*','')\n",
    "shops['shop_name'] = shops['shop_name'].str.replace('\"','')\n",
    "shops['shop_name'] = shops['shop_name'].str.replace(\"'\",'')\n",
    "shops['shop_name'] = shops['shop_name'].str.replace('/','')\n",
    "shops['shop_name'] = shops['shop_name'].str.replace(',','')\n",
    "shops.head()"
   ]
  },
  {
   "cell_type": "code",
   "execution_count": null,
   "metadata": {},
   "outputs": [],
   "source": [
    "# save to a new csv without an index.\n",
    "shops.to_csv('Data/shops_clean.csv', encoding='utf-8', index=False)"
   ]
  }
 ],
 "metadata": {
  "kernelspec": {
   "display_name": "Python 3",
   "language": "python",
   "name": "python3"
  },
  "language_info": {
   "codemirror_mode": {
    "name": "ipython",
    "version": 3
   },
   "file_extension": ".py",
   "mimetype": "text/x-python",
   "name": "python",
   "nbconvert_exporter": "python",
   "pygments_lexer": "ipython3",
   "version": "3.6.10"
  }
 },
 "nbformat": 4,
 "nbformat_minor": 4
}
